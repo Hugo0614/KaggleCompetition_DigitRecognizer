{
 "cells": [
  {
   "cell_type": "code",
   "execution_count": 1,
   "id": "9c92dbb8",
   "metadata": {
    "_cell_guid": "b1076dfc-b9ad-4769-8c92-a6c4dae69d19",
    "_uuid": "8f2839f25d086af736a60e9eeb907d3b93b6e0e5",
    "execution": {
     "iopub.execute_input": "2025-02-22T05:30:58.522838Z",
     "iopub.status.busy": "2025-02-22T05:30:58.522522Z",
     "iopub.status.idle": "2025-02-22T05:31:08.657919Z",
     "shell.execute_reply": "2025-02-22T05:31:08.656657Z"
    },
    "papermill": {
     "duration": 10.141863,
     "end_time": "2025-02-22T05:31:08.659727",
     "exception": false,
     "start_time": "2025-02-22T05:30:58.517864",
     "status": "completed"
    },
    "tags": []
   },
   "outputs": [
    {
     "name": "stdout",
     "output_type": "stream",
     "text": [
      "/kaggle/input/digit-recognizer/sample_submission.csv\n",
      "/kaggle/input/digit-recognizer/train.csv\n",
      "/kaggle/input/digit-recognizer/test.csv\n",
      "Using device: cuda\n"
     ]
    }
   ],
   "source": [
    "# This Python 3 environment comes with many helpful analytics libraries installed\n",
    "# It is defined by the kaggle/python Docker image: https://github.com/kaggle/docker-python\n",
    "# For example, here's several helpful packages to load\n",
    "\n",
    "import numpy as np # linear algebra\n",
    "import pandas as pd # data processing, CSV file I/O (e.g. pd.read_csv)\n",
    "\n",
    "# Input data files are available in the read-only \"../input/\" directory\n",
    "# For example, running this (by clicking run or pressing Shift+Enter) will list all files under the input directory\n",
    "\n",
    "import os\n",
    "for dirname, _, filenames in os.walk('/kaggle/input'):\n",
    "    for filename in filenames:\n",
    "        print(os.path.join(dirname, filename))\n",
    "\n",
    "# You can write up to 20GB to the current directory (/kaggle/working/) that gets preserved as output when you create a version using \"Save & Run All\" \n",
    "# You can also write temporary files to /kaggle/temp/, but they won't be saved outside of the current session\n",
    "\n",
    "import torch\n",
    "import torch.nn as nn\n",
    "import torch.optim as optim\n",
    "from torch.utils.data import Dataset, DataLoader, random_split\n",
    "from torchvision import transforms\n",
    "from sklearn.model_selection import train_test_split\n",
    "import torch.nn.functional as F\n",
    "\n",
    "# Test whether Kaggle's GPU is using\n",
    "device = torch.device('cuda' if torch.cuda.is_available() else 'cpu')\n",
    "print(f\"Using device: {device}\")"
   ]
  },
  {
   "cell_type": "code",
   "execution_count": 2,
   "id": "5da98485",
   "metadata": {
    "execution": {
     "iopub.execute_input": "2025-02-22T05:31:08.667895Z",
     "iopub.status.busy": "2025-02-22T05:31:08.667435Z",
     "iopub.status.idle": "2025-02-22T05:31:13.336379Z",
     "shell.execute_reply": "2025-02-22T05:31:13.335613Z"
    },
    "papermill": {
     "duration": 4.674726,
     "end_time": "2025-02-22T05:31:13.338168",
     "exception": false,
     "start_time": "2025-02-22T05:31:08.663442",
     "status": "completed"
    },
    "tags": []
   },
   "outputs": [],
   "source": [
    "train_set = pd.read_csv(\"/kaggle/input/digit-recognizer/train.csv\")\n",
    "test_set = pd.read_csv(\"/kaggle/input/digit-recognizer/test.csv\")"
   ]
  },
  {
   "cell_type": "code",
   "execution_count": 3,
   "id": "8442ad4f",
   "metadata": {
    "execution": {
     "iopub.execute_input": "2025-02-22T05:31:13.345683Z",
     "iopub.status.busy": "2025-02-22T05:31:13.345394Z",
     "iopub.status.idle": "2025-02-22T05:31:13.624875Z",
     "shell.execute_reply": "2025-02-22T05:31:13.623548Z"
    },
    "papermill": {
     "duration": 0.284839,
     "end_time": "2025-02-22T05:31:13.626495",
     "exception": false,
     "start_time": "2025-02-22T05:31:13.341656",
     "status": "completed"
    },
    "tags": []
   },
   "outputs": [
    {
     "name": "stdout",
     "output_type": "stream",
     "text": [
      "Dataset Mean: 0.1310, Std: 0.3085\n"
     ]
    }
   ],
   "source": [
    "pixels = train_set.drop('label', axis=1).values.astype(np.float32) / 255.0\n",
    "labels = train_set['label'].values\n",
    "data_mean = np.mean(pixels)\n",
    "data_std = np.std(pixels)\n",
    "print(f\"Dataset Mean: {data_mean:.4f}, Std: {data_std:.4f}\")"
   ]
  },
  {
   "cell_type": "code",
   "execution_count": 4,
   "id": "70903d7c",
   "metadata": {
    "execution": {
     "iopub.execute_input": "2025-02-22T05:31:13.634531Z",
     "iopub.status.busy": "2025-02-22T05:31:13.634198Z",
     "iopub.status.idle": "2025-02-22T05:31:13.638939Z",
     "shell.execute_reply": "2025-02-22T05:31:13.638233Z"
    },
    "papermill": {
     "duration": 0.010197,
     "end_time": "2025-02-22T05:31:13.640185",
     "exception": false,
     "start_time": "2025-02-22T05:31:13.629988",
     "status": "completed"
    },
    "tags": []
   },
   "outputs": [],
   "source": [
    "train_transform = transforms.Compose([\n",
    "    transforms.ToTensor(),\n",
    "    transforms.RandomRotation(10),      \n",
    "    transforms.RandomAffine(0, translate=(0.1,0.1)), \n",
    "    transforms.Normalize((data_mean,), (data_std,))\n",
    "])\n",
    "\n",
    "val_test_transform = transforms.Compose([\n",
    "    transforms.ToTensor(),\n",
    "    transforms.Normalize((data_mean,), (data_std,))\n",
    "])"
   ]
  },
  {
   "cell_type": "code",
   "execution_count": 5,
   "id": "d5ff8a08",
   "metadata": {
    "execution": {
     "iopub.execute_input": "2025-02-22T05:31:13.647084Z",
     "iopub.status.busy": "2025-02-22T05:31:13.646815Z",
     "iopub.status.idle": "2025-02-22T05:31:13.995290Z",
     "shell.execute_reply": "2025-02-22T05:31:13.994223Z"
    },
    "papermill": {
     "duration": 0.353851,
     "end_time": "2025-02-22T05:31:13.997134",
     "exception": false,
     "start_time": "2025-02-22T05:31:13.643283",
     "status": "completed"
    },
    "tags": []
   },
   "outputs": [],
   "source": [
    "X_train, X_val, y_train, y_val = train_test_split(\n",
    "    pixels.reshape(-1, 28, 28), labels, \n",
    "    test_size=0.2, random_state=42, stratify=labels\n",
    ")"
   ]
  },
  {
   "cell_type": "code",
   "execution_count": 6,
   "id": "f2de752a",
   "metadata": {
    "execution": {
     "iopub.execute_input": "2025-02-22T05:31:14.005336Z",
     "iopub.status.busy": "2025-02-22T05:31:14.004947Z",
     "iopub.status.idle": "2025-02-22T05:31:14.010389Z",
     "shell.execute_reply": "2025-02-22T05:31:14.009464Z"
    },
    "papermill": {
     "duration": 0.01086,
     "end_time": "2025-02-22T05:31:14.011757",
     "exception": false,
     "start_time": "2025-02-22T05:31:14.000897",
     "status": "completed"
    },
    "tags": []
   },
   "outputs": [],
   "source": [
    "class DigitDataset(Dataset):\n",
    "    def __init__(self, images, labels=None, transform=None):\n",
    "        self.images = images\n",
    "        self.labels = labels\n",
    "        self.transform = transform\n",
    "\n",
    "    def __len__(self):\n",
    "        return len(self.images)\n",
    "\n",
    "    def __getitem__(self, idx):\n",
    "        img = self.images[idx]\n",
    "        if self.transform:\n",
    "            img = self.transform(img)\n",
    "        if self.labels is not None:\n",
    "            return img, self.labels[idx]\n",
    "        else:\n",
    "            return img"
   ]
  },
  {
   "cell_type": "code",
   "execution_count": 7,
   "id": "e98061dc",
   "metadata": {
    "execution": {
     "iopub.execute_input": "2025-02-22T05:31:14.019114Z",
     "iopub.status.busy": "2025-02-22T05:31:14.018664Z",
     "iopub.status.idle": "2025-02-22T05:31:14.076106Z",
     "shell.execute_reply": "2025-02-22T05:31:14.075103Z"
    },
    "papermill": {
     "duration": 0.062771,
     "end_time": "2025-02-22T05:31:14.077743",
     "exception": false,
     "start_time": "2025-02-22T05:31:14.014972",
     "status": "completed"
    },
    "tags": []
   },
   "outputs": [],
   "source": [
    "#dataloader\n",
    "batch_size = 128\n",
    "train_dataset = DigitDataset(X_train, y_train, transform=train_transform)\n",
    "val_dataset = DigitDataset(X_val, y_val, transform=val_test_transform)\n",
    "test_dataset = DigitDataset(\n",
    "    test_set.values.reshape(-1, 28, 28).astype(np.float32) / 255.0,\n",
    "    transform=val_test_transform\n",
    ")\n",
    "\n",
    "train_loader = DataLoader(train_dataset, batch_size=batch_size, shuffle=True, num_workers=2)\n",
    "val_loader = DataLoader(val_dataset, batch_size=batch_size, shuffle=False)\n",
    "test_loader = DataLoader(test_dataset, batch_size=batch_size, shuffle=False)"
   ]
  },
  {
   "cell_type": "code",
   "execution_count": 8,
   "id": "952c4ac0",
   "metadata": {
    "execution": {
     "iopub.execute_input": "2025-02-22T05:31:14.085761Z",
     "iopub.status.busy": "2025-02-22T05:31:14.085452Z",
     "iopub.status.idle": "2025-02-22T05:31:14.327151Z",
     "shell.execute_reply": "2025-02-22T05:31:14.326310Z"
    },
    "papermill": {
     "duration": 0.247688,
     "end_time": "2025-02-22T05:31:14.328840",
     "exception": false,
     "start_time": "2025-02-22T05:31:14.081152",
     "status": "completed"
    },
    "tags": []
   },
   "outputs": [],
   "source": [
    "class EnhancedCNN(nn.Module):\n",
    "    def __init__(self):\n",
    "        super().__init__()\n",
    "        self.conv_block = nn.Sequential(\n",
    "            nn.Conv2d(1, 32, 3, padding=1),  # 28x28x32\n",
    "            nn.BatchNorm2d(32),\n",
    "            nn.ReLU(),\n",
    "            nn.Conv2d(32, 32, 3, padding=1),\n",
    "            nn.BatchNorm2d(32),\n",
    "            nn.ReLU(),\n",
    "            nn.MaxPool2d(2),  # 14x14x32\n",
    "            \n",
    "            nn.Conv2d(32, 64, 3, padding=1),  # 14x14x64\n",
    "            nn.BatchNorm2d(64),\n",
    "            nn.ReLU(),\n",
    "            nn.Conv2d(64, 64, 3, padding=1),\n",
    "            nn.BatchNorm2d(64),\n",
    "            nn.ReLU(),\n",
    "            nn.MaxPool2d(2),  # 7x7x64\n",
    "        )\n",
    "        \n",
    "        self.classifier = nn.Sequential(\n",
    "            nn.Dropout(0.5),\n",
    "            nn.Linear(64*7*7, 512),\n",
    "            nn.BatchNorm1d(512),\n",
    "            nn.ReLU(),\n",
    "            nn.Dropout(0.3),\n",
    "            nn.Linear(512, 10)\n",
    "        )\n",
    "\n",
    "    def forward(self, x):\n",
    "        x = self.conv_block(x)\n",
    "        x = x.view(x.size(0), -1)\n",
    "        return self.classifier(x)\n",
    "\n",
    "model = EnhancedCNN().to(device)"
   ]
  },
  {
   "cell_type": "code",
   "execution_count": 9,
   "id": "6c57d09c",
   "metadata": {
    "execution": {
     "iopub.execute_input": "2025-02-22T05:31:14.336237Z",
     "iopub.status.busy": "2025-02-22T05:31:14.335934Z",
     "iopub.status.idle": "2025-02-22T05:31:14.340264Z",
     "shell.execute_reply": "2025-02-22T05:31:14.339441Z"
    },
    "papermill": {
     "duration": 0.009544,
     "end_time": "2025-02-22T05:31:14.341616",
     "exception": false,
     "start_time": "2025-02-22T05:31:14.332072",
     "status": "completed"
    },
    "tags": []
   },
   "outputs": [],
   "source": [
    "criterion = nn.CrossEntropyLoss()\n",
    "optimizer = optim.AdamW(model.parameters(), lr=0.001, weight_decay=1e-4)\n",
    "scheduler = optim.lr_scheduler.ReduceLROnPlateau(optimizer, mode='max', patience=2, factor=0.5)"
   ]
  },
  {
   "cell_type": "code",
   "execution_count": 10,
   "id": "43f7db9d",
   "metadata": {
    "execution": {
     "iopub.execute_input": "2025-02-22T05:31:14.348657Z",
     "iopub.status.busy": "2025-02-22T05:31:14.348376Z",
     "iopub.status.idle": "2025-02-22T05:36:39.454649Z",
     "shell.execute_reply": "2025-02-22T05:36:39.453288Z"
    },
    "papermill": {
     "duration": 325.111585,
     "end_time": "2025-02-22T05:36:39.456394",
     "exception": false,
     "start_time": "2025-02-22T05:31:14.344809",
     "status": "completed"
    },
    "tags": []
   },
   "outputs": [
    {
     "name": "stdout",
     "output_type": "stream",
     "text": [
      "Epoch 1/50\n",
      "Train Loss: 0.2652 | Val Loss: 0.1000 | Val Acc: 0.9683 | LR: [0.001]\n",
      "Epoch 2/50\n",
      "Train Loss: 0.0941 | Val Loss: 0.0324 | Val Acc: 0.9896 | LR: [0.001]\n",
      "Epoch 3/50\n",
      "Train Loss: 0.0723 | Val Loss: 0.0481 | Val Acc: 0.9860 | LR: [0.001]\n",
      "Epoch 4/50\n",
      "Train Loss: 0.0646 | Val Loss: 0.0367 | Val Acc: 0.9886 | LR: [0.001]\n",
      "Epoch 5/50\n",
      "Train Loss: 0.0579 | Val Loss: 0.0275 | Val Acc: 0.9917 | LR: [0.001]\n",
      "Epoch 6/50\n",
      "Train Loss: 0.0539 | Val Loss: 0.0249 | Val Acc: 0.9923 | LR: [0.001]\n",
      "Epoch 7/50\n",
      "Train Loss: 0.0496 | Val Loss: 0.0244 | Val Acc: 0.9915 | LR: [0.001]\n",
      "Epoch 8/50\n",
      "Train Loss: 0.0484 | Val Loss: 0.0205 | Val Acc: 0.9943 | LR: [0.001]\n",
      "Epoch 9/50\n",
      "Train Loss: 0.0432 | Val Loss: 0.0190 | Val Acc: 0.9945 | LR: [0.001]\n",
      "Epoch 10/50\n",
      "Train Loss: 0.0396 | Val Loss: 0.0217 | Val Acc: 0.9932 | LR: [0.001]\n",
      "Epoch 11/50\n",
      "Train Loss: 0.0417 | Val Loss: 0.0176 | Val Acc: 0.9948 | LR: [0.001]\n",
      "Epoch 12/50\n",
      "Train Loss: 0.0401 | Val Loss: 0.0182 | Val Acc: 0.9949 | LR: [0.001]\n",
      "Epoch 13/50\n",
      "Train Loss: 0.0349 | Val Loss: 0.0219 | Val Acc: 0.9936 | LR: [0.001]\n",
      "Epoch 14/50\n",
      "Train Loss: 0.0362 | Val Loss: 0.0226 | Val Acc: 0.9935 | LR: [0.001]\n",
      "Epoch 15/50\n",
      "Train Loss: 0.0338 | Val Loss: 0.0220 | Val Acc: 0.9930 | LR: [0.0005]\n",
      "Early stopping at epoch 15\n"
     ]
    }
   ],
   "source": [
    "num_epochs = 50\n",
    "best_val_acc = 0.0\n",
    "patience = 3\n",
    "no_improve = 0\n",
    "\n",
    "for epoch in range(num_epochs):\n",
    "    # Training\n",
    "    model.train()\n",
    "    train_loss = 0.0\n",
    "    for images, labels in train_loader:\n",
    "        images, labels = images.to(device), labels.to(device)\n",
    "        optimizer.zero_grad()\n",
    "        outputs = model(images)\n",
    "        loss = criterion(outputs, labels)\n",
    "        loss.backward()\n",
    "        optimizer.step()\n",
    "        train_loss += loss.item() * images.size(0)\n",
    "    \n",
    "    # Validation\n",
    "    model.eval()\n",
    "    val_loss = 0.0\n",
    "    correct = 0\n",
    "    total = 0\n",
    "    with torch.no_grad():\n",
    "        for images, labels in val_loader:\n",
    "            images, labels = images.to(device), labels.to(device)\n",
    "            outputs = model(images)\n",
    "            loss = criterion(outputs, labels)\n",
    "            val_loss += loss.item() * images.size(0)\n",
    "            _, preds = torch.max(outputs, 1)\n",
    "            correct += (preds == labels).sum().item()\n",
    "            total += labels.size(0)\n",
    "    \n",
    "    train_loss = train_loss / len(train_loader.dataset)\n",
    "    val_loss = val_loss / len(val_loader.dataset)\n",
    "    val_acc = correct / total\n",
    "    scheduler.step(val_acc)\n",
    "    \n",
    "    print(f\"Epoch {epoch+1}/{num_epochs}\")\n",
    "    print(f\"Train Loss: {train_loss:.4f} | Val Loss: {val_loss:.4f} | Val Acc: {val_acc:.4f} | LR: {scheduler.get_last_lr()}\")\n",
    "    \n",
    "    if val_acc > best_val_acc:\n",
    "        best_val_acc = val_acc\n",
    "        torch.save(model.state_dict(), 'best_model.pth')\n",
    "        no_improve = 0\n",
    "    else:\n",
    "        no_improve += 1\n",
    "        if no_improve >= patience:\n",
    "            print(f\"Early stopping at epoch {epoch+1}\")\n",
    "            break"
   ]
  },
  {
   "cell_type": "code",
   "execution_count": 11,
   "id": "b5a5c38b",
   "metadata": {
    "execution": {
     "iopub.execute_input": "2025-02-22T05:36:39.465933Z",
     "iopub.status.busy": "2025-02-22T05:36:39.465614Z",
     "iopub.status.idle": "2025-02-22T05:36:43.058726Z",
     "shell.execute_reply": "2025-02-22T05:36:43.057341Z"
    },
    "papermill": {
     "duration": 3.599945,
     "end_time": "2025-02-22T05:36:43.060585",
     "exception": false,
     "start_time": "2025-02-22T05:36:39.460640",
     "status": "completed"
    },
    "tags": []
   },
   "outputs": [
    {
     "name": "stderr",
     "output_type": "stream",
     "text": [
      "<ipython-input-11-3dfdb52a2a82>:1: FutureWarning: You are using `torch.load` with `weights_only=False` (the current default value), which uses the default pickle module implicitly. It is possible to construct malicious pickle data which will execute arbitrary code during unpickling (See https://github.com/pytorch/pytorch/blob/main/SECURITY.md#untrusted-models for more details). In a future release, the default value for `weights_only` will be flipped to `True`. This limits the functions that could be executed during unpickling. Arbitrary objects will no longer be allowed to be loaded via this mode unless they are explicitly allowlisted by the user via `torch.serialization.add_safe_globals`. We recommend you start setting `weights_only=True` for any use case where you don't have full control of the loaded file. Please open an issue on GitHub for any issues related to this experimental feature.\n",
      "  model.load_state_dict(torch.load('best_model.pth'))\n"
     ]
    },
    {
     "name": "stdout",
     "output_type": "stream",
     "text": [
      "Submission file saved!\n"
     ]
    }
   ],
   "source": [
    "model.load_state_dict(torch.load('best_model.pth'))\n",
    "model.eval()\n",
    "\n",
    "preds = []\n",
    "with torch.no_grad():\n",
    "    for images in test_loader:\n",
    "        images = images.to(device)\n",
    "        outputs = model(images)\n",
    "        _, predicted = torch.max(outputs, 1)\n",
    "        preds.extend(predicted.cpu().numpy())\n",
    "\n",
    "\n",
    "submission = pd.DataFrame({\n",
    "    'ImageId': range(1, len(preds)+1),\n",
    "    'Label': preds\n",
    "})\n",
    "submission.to_csv('submission.csv', index=False)\n",
    "print(\"Submission file saved!\")"
   ]
  },
  {
   "cell_type": "code",
   "execution_count": null,
   "id": "ac17c237",
   "metadata": {
    "papermill": {
     "duration": 0.007249,
     "end_time": "2025-02-22T05:36:43.076041",
     "exception": false,
     "start_time": "2025-02-22T05:36:43.068792",
     "status": "completed"
    },
    "tags": []
   },
   "outputs": [],
   "source": []
  }
 ],
 "metadata": {
  "kaggle": {
   "accelerator": "gpu",
   "dataSources": [
    {
     "databundleVersionId": 861823,
     "sourceId": 3004,
     "sourceType": "competition"
    }
   ],
   "isGpuEnabled": true,
   "isInternetEnabled": false,
   "language": "python",
   "sourceType": "notebook"
  },
  "kernelspec": {
   "display_name": "Python 3",
   "language": "python",
   "name": "python3"
  },
  "language_info": {
   "codemirror_mode": {
    "name": "ipython",
    "version": 3
   },
   "file_extension": ".py",
   "mimetype": "text/x-python",
   "name": "python",
   "nbconvert_exporter": "python",
   "pygments_lexer": "ipython3",
   "version": "3.10.12"
  },
  "papermill": {
   "default_parameters": {},
   "duration": 350.094032,
   "end_time": "2025-02-22T05:36:45.680960",
   "environment_variables": {},
   "exception": null,
   "input_path": "__notebook__.ipynb",
   "output_path": "__notebook__.ipynb",
   "parameters": {},
   "start_time": "2025-02-22T05:30:55.586928",
   "version": "2.6.0"
  }
 },
 "nbformat": 4,
 "nbformat_minor": 5
}
